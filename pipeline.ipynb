{
 "cells": [
  {
   "cell_type": "code",
   "execution_count": 1,
   "metadata": {},
   "outputs": [
    {
     "name": "stderr",
     "output_type": "stream",
     "text": [
      "c:\\Users\\gracianne\\AppData\\Local\\mambaforge\\envs\\el-pipeline\\lib\\site-packages\\tqdm\\auto.py:21: TqdmWarning: IProgress not found. Please update jupyter and ipywidgets. See https://ipywidgets.readthedocs.io/en/stable/user_install.html\n",
      "  from .autonotebook import tqdm as notebook_tqdm\n"
     ]
    }
   ],
   "source": [
    "import sys\n",
    "import pandas as pd\n",
    "import datasets\n",
    "from pathlib import Path\n",
    "\n",
    "from transformers import AutoTokenizer, AutoModelForSequenceClassification\n",
    "\n",
    "sys.path.append('../camembert_dual_encoder/')\n",
    "from camembert_dual_encoder import CamembertDualEncoderModel\n",
    "from camembert_dual_encoder.data.embeddings import KeyedVectors\n",
    "\n",
    "from model import ELPipeline, WikipediaMapper, WikidataPropertyGetter\n",
    "from model import keep_best_candidates"
   ]
  },
  {
   "cell_type": "code",
   "execution_count": 2,
   "metadata": {},
   "outputs": [],
   "source": [
    "# Loading known entities (their descriptions will be use for candidates desambiguisation)\n",
    "df_entities = pd.read_csv('data/entity_mapping.csv', encoding='utf-8')\n",
    "entity2description = dict(zip(df_entities['entity'], df_entities['description']))"
   ]
  },
  {
   "cell_type": "code",
   "execution_count": 5,
   "metadata": {},
   "outputs": [],
   "source": [
    "# The model should have been extracted in the following bi_encoder_pretrained_model_path :\n",
    "bi_encoder_pretrained_model_path = 'data/weights/biEncoder/'\n",
    "bi_encoder = CamembertDualEncoderModel.from_pretrained(bi_encoder_pretrained_model_path).eval()\n",
    "bi_encoder_tokenizer = AutoTokenizer.from_pretrained('camembert-base')\n",
    "\n",
    "# Loading embeddings\n",
    "bi_encoder_embeddings_dir = Path(bi_encoder_pretrained_model_path, 'embeddings')\n",
    "embeddings = KeyedVectors.from_directory(bi_encoder_embeddings_dir)"
   ]
  },
  {
   "cell_type": "code",
   "execution_count": 6,
   "metadata": {},
   "outputs": [
    {
     "name": "stderr",
     "output_type": "stream",
     "text": [
      "Special tokens have been added in the vocabulary, make sure the associated word embeddings are fine-tuned or trained.\n"
     ]
    }
   ],
   "source": [
    "# The model should have been extracted in the following cross_encoder_pretrained_model_path :\n",
    "cross_encoder_pretrained_model_path = 'data/weights/crossEncoder/'\n",
    "cross_encoder = AutoModelForSequenceClassification.from_pretrained(cross_encoder_pretrained_model_path).eval()\n",
    "cross_encoder_tokenizer = AutoTokenizer.from_pretrained(cross_encoder_pretrained_model_path)"
   ]
  },
  {
   "cell_type": "code",
   "execution_count": 7,
   "metadata": {},
   "outputs": [],
   "source": [
    "wiki_pages = datasets.load_dataset(\"gcaillaut/frwiki-20220601_page\", split=\"train\").to_pandas()\n",
    "wiki_redirects = datasets.load_dataset(\"gcaillaut/frwiki-20220601_all_redirect\", split=\"train\").to_pandas()\n",
    "\n",
    "wikipedia_mapper = WikipediaMapper(wiki_pages, wiki_redirects)\n",
    "wikidata_getter = WikidataPropertyGetter.default()"
   ]
  },
  {
   "cell_type": "code",
   "execution_count": 8,
   "metadata": {},
   "outputs": [],
   "source": [
    "# Build the object requires for prediction\n",
    "el_pipeline = ELPipeline(bi_encoder, cross_encoder, bi_encoder_tokenizer, cross_encoder_tokenizer, embeddings, entity2description, wikipedia_mapper, wikidata_getter)\n"
   ]
  },
  {
   "cell_type": "code",
   "execution_count": 9,
   "metadata": {},
   "outputs": [],
   "source": [
    "input_pipeline = [\"Orléans est une commune du Centre-Nord-Ouest de la France sur les rives de la Loire, préfecture du département du Loiret et capitale de la région Centre-Val de Loire.\"]\n",
    "output_pipeline = el_pipeline(input_pipeline)\n",
    "\n",
    "keep_best_candidates(output_pipeline)"
   ]
  }
 ],
 "metadata": {
  "kernelspec": {
   "display_name": "Python 3.9.13 ('geoloc-pipeline')",
   "language": "python",
   "name": "python3"
  },
  "language_info": {
   "codemirror_mode": {
    "name": "ipython",
    "version": 3
   },
   "file_extension": ".py",
   "mimetype": "text/x-python",
   "name": "python",
   "nbconvert_exporter": "python",
   "pygments_lexer": "ipython3",
   "version": "3.9.18"
  },
  "orig_nbformat": 4,
  "vscode": {
   "interpreter": {
    "hash": "8dc3d09305d9179dd776bf3b5adc24d1cf872eeb5163b4ae18259c69a136cd2f"
   }
  }
 },
 "nbformat": 4,
 "nbformat_minor": 2
}
